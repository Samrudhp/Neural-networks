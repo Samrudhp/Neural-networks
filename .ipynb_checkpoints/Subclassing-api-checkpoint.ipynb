{
 "cells": [
  {
   "cell_type": "markdown",
   "id": "994acac6-913e-41c0-abfc-a6bbe93d0f60",
   "metadata": {},
   "source": [
    "# subclassing API"
   ]
  },
  {
   "cell_type": "raw",
   "id": "9139f098-fc79-4032-8041-53071bf395ef",
   "metadata": {},
   "source": [
    "1️⃣ __init__() Constructor – Define layers as instance attributes.\n",
    "2️⃣ call() Method – Define the forward pass logic.\n",
    "3️⃣ compile() and fit() – Train the model normally like other Keras models."
   ]
  },
  {
   "cell_type": "code",
   "execution_count": 1,
   "id": "4c7f035f-45c0-4c32-a7c4-d69c4c707222",
   "metadata": {},
   "outputs": [],
   "source": [
    "import tensorflow as tf\n",
    "from tensorflow import keras\n",
    "from tensorflow.keras.layers import Dense,Dropout"
   ]
  },
  {
   "cell_type": "code",
   "execution_count": 3,
   "id": "cade7696-ee82-4551-b4cf-e9e7dbff25f9",
   "metadata": {},
   "outputs": [],
   "source": [
    "import datetime\n",
    "import numpy as np"
   ]
  },
  {
   "cell_type": "code",
   "execution_count": 4,
   "id": "c60afd77-3bd1-40b1-b633-8fe4af234c45",
   "metadata": {},
   "outputs": [],
   "source": [
    "# define custom model\n",
    "class CustomNN(keras.Model):\n",
    "    def __init__(self,input_shape):\n",
    "        super(CustomNN,self).__init__()\n",
    "\n",
    "        #define layers\n",
    "        self.dense1 = Dense(64,activation = \"relu\")\n",
    "        self.dropout1 =  Dropout(0.3)\n",
    "        self.dense2 = Dense(32,activation = \"relu\")\n",
    "        self.dropout2= Dropout(0.3)\n",
    "        self.output_layer = Dense(1,activation=\"linear\")\n",
    "\n",
    "    def call(self,inputs):\n",
    "        x = self.dense1(inputs)\n",
    "        x = self.dropout1(x)\n",
    "        x = self.dense2(x)\n",
    "        x = self.dropout2(x)\n",
    "        return self.output_layer(x)"
   ]
  },
  {
   "cell_type": "code",
   "execution_count": 5,
   "id": "b254a884-adf0-4b3c-b428-c20c18618e30",
   "metadata": {},
   "outputs": [],
   "source": [
    "# Define the log directory for TensorBoard\n",
    "log_dir = \"logs/fit/\" + datetime.datetime.now().strftime(\"%Y%m%d-%H%M%S\")\n",
    "\n",
    "# Create TensorBoard callback\n",
    "tensorboard_callback = keras.callbacks.TensorBoard(log_dir=log_dir, histogram_freq=1)\n"
   ]
  },
  {
   "cell_type": "code",
   "execution_count": 6,
   "id": "d2a9b910-67a2-4e2d-884e-89d1f89547b6",
   "metadata": {},
   "outputs": [
    {
     "name": "stdout",
     "output_type": "stream",
     "text": [
      "Epoch 1/20\n",
      "\u001b[1m29/29\u001b[0m \u001b[32m━━━━━━━━━━━━━━━━━━━━\u001b[0m\u001b[37m\u001b[0m \u001b[1m3s\u001b[0m 31ms/step - loss: 0.1753 - mae: 0.3422 - val_loss: 0.1049 - val_mae: 0.2751\n",
      "Epoch 2/20\n",
      "\u001b[1m29/29\u001b[0m \u001b[32m━━━━━━━━━━━━━━━━━━━━\u001b[0m\u001b[37m\u001b[0m \u001b[1m0s\u001b[0m 12ms/step - loss: 0.0902 - mae: 0.2564 - val_loss: 0.0949 - val_mae: 0.2635\n",
      "Epoch 3/20\n",
      "\u001b[1m29/29\u001b[0m \u001b[32m━━━━━━━━━━━━━━━━━━━━\u001b[0m\u001b[37m\u001b[0m \u001b[1m0s\u001b[0m 11ms/step - loss: 0.0866 - mae: 0.2517 - val_loss: 0.0953 - val_mae: 0.2643\n",
      "Epoch 4/20\n",
      "\u001b[1m29/29\u001b[0m \u001b[32m━━━━━━━━━━━━━━━━━━━━\u001b[0m\u001b[37m\u001b[0m \u001b[1m0s\u001b[0m 12ms/step - loss: 0.0877 - mae: 0.2539 - val_loss: 0.0932 - val_mae: 0.2624\n",
      "Epoch 5/20\n",
      "\u001b[1m29/29\u001b[0m \u001b[32m━━━━━━━━━━━━━━━━━━━━\u001b[0m\u001b[37m\u001b[0m \u001b[1m0s\u001b[0m 12ms/step - loss: 0.0865 - mae: 0.2512 - val_loss: 0.0952 - val_mae: 0.2636\n",
      "Epoch 6/20\n",
      "\u001b[1m29/29\u001b[0m \u001b[32m━━━━━━━━━━━━━━━━━━━━\u001b[0m\u001b[37m\u001b[0m \u001b[1m0s\u001b[0m 13ms/step - loss: 0.0808 - mae: 0.2426 - val_loss: 0.0941 - val_mae: 0.2630\n",
      "Epoch 7/20\n",
      "\u001b[1m29/29\u001b[0m \u001b[32m━━━━━━━━━━━━━━━━━━━━\u001b[0m\u001b[37m\u001b[0m \u001b[1m0s\u001b[0m 13ms/step - loss: 0.0855 - mae: 0.2511 - val_loss: 0.0954 - val_mae: 0.2651\n",
      "Epoch 8/20\n",
      "\u001b[1m29/29\u001b[0m \u001b[32m━━━━━━━━━━━━━━━━━━━━\u001b[0m\u001b[37m\u001b[0m \u001b[1m0s\u001b[0m 12ms/step - loss: 0.0862 - mae: 0.2522 - val_loss: 0.0939 - val_mae: 0.2626\n",
      "Epoch 9/20\n",
      "\u001b[1m29/29\u001b[0m \u001b[32m━━━━━━━━━━━━━━━━━━━━\u001b[0m\u001b[37m\u001b[0m \u001b[1m0s\u001b[0m 12ms/step - loss: 0.0854 - mae: 0.2522 - val_loss: 0.0924 - val_mae: 0.2606\n",
      "Epoch 10/20\n",
      "\u001b[1m29/29\u001b[0m \u001b[32m━━━━━━━━━━━━━━━━━━━━\u001b[0m\u001b[37m\u001b[0m \u001b[1m0s\u001b[0m 12ms/step - loss: 0.0835 - mae: 0.2492 - val_loss: 0.0916 - val_mae: 0.2599\n",
      "Epoch 11/20\n",
      "\u001b[1m29/29\u001b[0m \u001b[32m━━━━━━━━━━━━━━━━━━━━\u001b[0m\u001b[37m\u001b[0m \u001b[1m0s\u001b[0m 12ms/step - loss: 0.0781 - mae: 0.2386 - val_loss: 0.0962 - val_mae: 0.2639\n",
      "Epoch 12/20\n",
      "\u001b[1m29/29\u001b[0m \u001b[32m━━━━━━━━━━━━━━━━━━━━\u001b[0m\u001b[37m\u001b[0m \u001b[1m0s\u001b[0m 12ms/step - loss: 0.0815 - mae: 0.2444 - val_loss: 0.0940 - val_mae: 0.2622\n",
      "Epoch 13/20\n",
      "\u001b[1m29/29\u001b[0m \u001b[32m━━━━━━━━━━━━━━━━━━━━\u001b[0m\u001b[37m\u001b[0m \u001b[1m0s\u001b[0m 11ms/step - loss: 0.0810 - mae: 0.2448 - val_loss: 0.0928 - val_mae: 0.2610\n",
      "Epoch 14/20\n",
      "\u001b[1m29/29\u001b[0m \u001b[32m━━━━━━━━━━━━━━━━━━━━\u001b[0m\u001b[37m\u001b[0m \u001b[1m0s\u001b[0m 12ms/step - loss: 0.0801 - mae: 0.2431 - val_loss: 0.0942 - val_mae: 0.2625\n",
      "Epoch 15/20\n",
      "\u001b[1m29/29\u001b[0m \u001b[32m━━━━━━━━━━━━━━━━━━━━\u001b[0m\u001b[37m\u001b[0m \u001b[1m0s\u001b[0m 12ms/step - loss: 0.0776 - mae: 0.2398 - val_loss: 0.0955 - val_mae: 0.2636\n",
      "Epoch 16/20\n",
      "\u001b[1m29/29\u001b[0m \u001b[32m━━━━━━━━━━━━━━━━━━━━\u001b[0m\u001b[37m\u001b[0m \u001b[1m0s\u001b[0m 12ms/step - loss: 0.0797 - mae: 0.2424 - val_loss: 0.0952 - val_mae: 0.2631\n",
      "Epoch 17/20\n",
      "\u001b[1m29/29\u001b[0m \u001b[32m━━━━━━━━━━━━━━━━━━━━\u001b[0m\u001b[37m\u001b[0m \u001b[1m0s\u001b[0m 11ms/step - loss: 0.0778 - mae: 0.2384 - val_loss: 0.0934 - val_mae: 0.2623\n",
      "Epoch 18/20\n",
      "\u001b[1m29/29\u001b[0m \u001b[32m━━━━━━━━━━━━━━━━━━━━\u001b[0m\u001b[37m\u001b[0m \u001b[1m0s\u001b[0m 11ms/step - loss: 0.0763 - mae: 0.2366 - val_loss: 0.0939 - val_mae: 0.2611\n",
      "Epoch 19/20\n",
      "\u001b[1m29/29\u001b[0m \u001b[32m━━━━━━━━━━━━━━━━━━━━\u001b[0m\u001b[37m\u001b[0m \u001b[1m1s\u001b[0m 12ms/step - loss: 0.0751 - mae: 0.2336 - val_loss: 0.0939 - val_mae: 0.2605\n",
      "Epoch 20/20\n",
      "\u001b[1m29/29\u001b[0m \u001b[32m━━━━━━━━━━━━━━━━━━━━\u001b[0m\u001b[37m\u001b[0m \u001b[1m0s\u001b[0m 13ms/step - loss: 0.0761 - mae: 0.2351 - val_loss: 0.0945 - val_mae: 0.2622\n"
     ]
    }
   ],
   "source": [
    "model = CustomNN(input_shape = (10,))# Instantiate the model\n",
    "model = CustomNN(input_shape=(10,))  # Assume input has 10 features\n",
    "\n",
    "# Compile the model\n",
    "model.compile(optimizer=\"adam\", loss=\"mse\", metrics=[\"mae\"])\n",
    "\n",
    "# Generate dummy training data\n",
    "import numpy as np\n",
    "X_train = np.random.rand(1000, 10)  # 1000 samples, 10 features\n",
    "y_train = np.random.rand(1000, 1)   # 1000 target values\n",
    "\n",
    "# Train the model with TensorBoard callback\n",
    "history = model.fit(X_train, y_train, epochs=20, batch_size=32, validation_split=0.1, \n",
    "                    callbacks=[tensorboard_callback])\n",
    "\n",
    "\n",
    "model.compile(optimizer = \"adam\",loss = \"mse\",metrics = [\"mae\"])"
   ]
  },
  {
   "cell_type": "code",
   "execution_count": null,
   "id": "326128ff-6d10-41df-b003-5bc953b45219",
   "metadata": {},
   "outputs": [],
   "source": [
    "# Define the log directory for TensorBoard\n",
    "log_dir = \"logs/fit/\" + datetime.datetime.now().strftime(\"%Y%m%d-%H%M%S\")\n",
    "\n",
    "# Create TensorBoard callback\n",
    "tensorboard_callback = keras.callbacks.TensorBoard(log_dir=log_dir, histogram_freq=1)\n"
   ]
  },
  {
   "cell_type": "code",
   "execution_count": null,
   "id": "ac241fb2-cfd8-4e43-9292-bb38d5a3f030",
   "metadata": {},
   "outputs": [],
   "source": []
  }
 ],
 "metadata": {
  "kernelspec": {
   "display_name": "Python 3.10 (Correct)",
   "language": "python",
   "name": "python310"
  },
  "language_info": {
   "codemirror_mode": {
    "name": "ipython",
    "version": 3
   },
   "file_extension": ".py",
   "mimetype": "text/x-python",
   "name": "python",
   "nbconvert_exporter": "python",
   "pygments_lexer": "ipython3",
   "version": "3.10.0rc2"
  }
 },
 "nbformat": 4,
 "nbformat_minor": 5
}
