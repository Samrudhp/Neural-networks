{
 "cells": [
  {
   "cell_type": "raw",
   "id": "01b30d0d-42ea-4c8e-8ec5-06c74ed9c0d2",
   "metadata": {},
   "source": [
    "RNNs are designed for sequential data, meaning they process time-dependent information, like:\n",
    "✅ Text (NLP) – Sentiment Analysis, Chatbots, Text Generation\n",
    "✅ Speech & Audio – Voice Assistants, Speech Recognition\n",
    "✅ Time-Series Data – Stock Price Prediction, Weather Forecasting"
   ]
  },
  {
   "cell_type": "raw",
   "id": "14d28828-e347-4b84-bdca-592a44820590",
   "metadata": {},
   "source": [
    "RNNs process input one step at a time, storing information in a hidden state.\n",
    "\n",
    "1️⃣ Takes an input (word, number, or sequence)\n",
    "2️⃣ Processes it while remembering past data\n",
    "3️⃣ Passes the hidden state to the next step\n",
    "🔹 Simple RNN Formula\n",
    "\n",
    "At each time step t:\n",
    "ht=tanh⁡(Wxxt+Whht−1+b)\n",
    "ht​=tanh(Wx​xt​+Wh​ht−1​+b)\n",
    "\n",
    "Where:\n",
    "\n",
    "    xtxt​ = Input at time tt\n",
    "    ht−1ht−1​ = Previous hidden state\n",
    "    Wx,WhWx​,Wh​ = Weights\n",
    "    bb = Bias\n",
    "    tanh⁡tanh = Activation function\n",
    "\n",
    "✅ The hidden state htht​ acts like memory, keeping track of past inputs."
   ]
  },
  {
   "cell_type": "code",
   "execution_count": null,
   "id": "03d37cf1-e492-45db-93e7-93ff6e8f23a2",
   "metadata": {},
   "outputs": [],
   "source": []
  }
 ],
 "metadata": {
  "kernelspec": {
   "display_name": "Python 3.10 (Correct)",
   "language": "python",
   "name": "python310"
  },
  "language_info": {
   "codemirror_mode": {
    "name": "ipython",
    "version": 3
   },
   "file_extension": ".py",
   "mimetype": "text/x-python",
   "name": "python",
   "nbconvert_exporter": "python",
   "pygments_lexer": "ipython3",
   "version": "3.10.0rc2"
  }
 },
 "nbformat": 4,
 "nbformat_minor": 5
}
