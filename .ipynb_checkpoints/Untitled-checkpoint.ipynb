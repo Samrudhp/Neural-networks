{
 "cells": [
  {
   "cell_type": "markdown",
   "id": "51d41fff-d1bf-43eb-a1e3-52ca11de4560",
   "metadata": {},
   "source": [
    "# Tensors"
   ]
  },
  {
   "cell_type": "code",
   "execution_count": 1,
   "id": "eaa84e14-b4a2-45e4-8ff8-cc038e6a0449",
   "metadata": {},
   "outputs": [],
   "source": [
    "import tensorflow as tf\n",
    "import numpy as np"
   ]
  },
  {
   "cell_type": "code",
   "execution_count": 3,
   "id": "165d279b-c57e-4bed-863b-1323df2b85c3",
   "metadata": {},
   "outputs": [],
   "source": [
    "scalar = tf.constant(7) # rank-0"
   ]
  },
  {
   "cell_type": "code",
   "execution_count": 4,
   "id": "e585c9c2-099e-470e-9b6f-549a60a4a95a",
   "metadata": {},
   "outputs": [],
   "source": [
    "vector = tf.constant([1,2,3])  # rank-1"
   ]
  },
  {
   "cell_type": "code",
   "execution_count": 6,
   "id": "e07e80a6-c8d8-4cc1-b7aa-34c84252e984",
   "metadata": {},
   "outputs": [],
   "source": [
    "matrix = tf.constant([[1,2],[3,4]]) # rank-2"
   ]
  },
  {
   "cell_type": "code",
   "execution_count": 7,
   "id": "c1b9e216-4ca9-472e-aaaa-35705d19d9f1",
   "metadata": {},
   "outputs": [],
   "source": [
    "tensor = tf.constant(np.random.rand(3,3,3)) # rank-3 or higher"
   ]
  },
  {
   "cell_type": "code",
   "execution_count": 8,
   "id": "3dbf13b3-e9f0-456d-9d82-b94f4d08f9ba",
   "metadata": {},
   "outputs": [
    {
     "name": "stdout",
     "output_type": "stream",
     "text": [
      "Scalar: 7\n",
      "Vector: [1 2 3]\n",
      "Matrix: [[1 2]\n",
      " [3 4]]\n",
      "Tensor: [[[0.86325039 0.66238589 0.58721556]\n",
      "  [0.21146199 0.80756514 0.55951442]\n",
      "  [0.54961806 0.78623785 0.74958003]]\n",
      "\n",
      " [[0.11513373 0.26155907 0.8980176 ]\n",
      "  [0.91707836 0.97103725 0.41017234]\n",
      "  [0.1656958  0.82654293 0.65779998]]\n",
      "\n",
      " [[0.36963527 0.99812461 0.11819835]\n",
      "  [0.62209958 0.84239727 0.38102112]\n",
      "  [0.97935106 0.9757958  0.98730739]]]\n"
     ]
    }
   ],
   "source": [
    "print(f\"Scalar: {scalar}\")\n",
    "print(f\"Vector: {vector}\")\n",
    "print(f\"Matrix: {matrix}\")\n",
    "print(f\"Tensor: {tensor}\")"
   ]
  },
  {
   "cell_type": "markdown",
   "id": "42331ca5-2cd4-4ff5-a29f-706341dd2dfd",
   "metadata": {},
   "source": [
    "# Simple neural network"
   ]
  },
  {
   "cell_type": "code",
   "execution_count": 11,
   "id": "b242e22a-b7f2-4889-a778-4ecdacc85edf",
   "metadata": {},
   "outputs": [],
   "source": [
    "import tensorflow as tf\n",
    "from tensorflow import keras\n",
    "import numpy as np\n",
    "import matplotlib.pyplot as plt"
   ]
  },
  {
   "cell_type": "code",
   "execution_count": 13,
   "id": "9d81c019-33ff-40a7-bd3e-48892a96aa39",
   "metadata": {},
   "outputs": [],
   "source": [
    "# Generating synthetic data\n",
    "X = np.random.rand(1000, 2)  # 1000 samples, 2 features\n",
    "y = (X[:, 0] + X[:, 1] > 1).astype(int)  # Label: 1 if sum > 1, else 0\n"
   ]
  },
  {
   "cell_type": "code",
   "execution_count": 16,
   "id": "7a4b30a0-811e-453a-812d-9b7afdac5265",
   "metadata": {},
   "outputs": [],
   "source": [
    "# Defining a Sequential Model\n",
    "model = keras.Sequential([\n",
    "    keras.layers.Dense(8, activation='relu', input_shape=(2,)),  # 8 neurons, ReLU activation\n",
    "    keras.layers.Dense(4, activation='relu'),  # Hidden Layer\n",
    "    keras.layers.Dense(1, activation='sigmoid')  # Output Layer (sigmoid for binary classification)\n",
    "])\n"
   ]
  },
  {
   "cell_type": "code",
   "execution_count": 18,
   "id": "b314084a-a03c-407f-acaa-8e06e1c893cd",
   "metadata": {},
   "outputs": [
    {
     "name": "stdout",
     "output_type": "stream",
     "text": [
      "Epoch 1/10\n",
      "\u001b[1m32/32\u001b[0m \u001b[32m━━━━━━━━━━━━━━━━━━━━\u001b[0m\u001b[37m\u001b[0m \u001b[1m2s\u001b[0m 5ms/step - accuracy: 0.5650 - loss: 0.6883\n",
      "Epoch 2/10\n",
      "\u001b[1m32/32\u001b[0m \u001b[32m━━━━━━━━━━━━━━━━━━━━\u001b[0m\u001b[37m\u001b[0m \u001b[1m0s\u001b[0m 4ms/step - accuracy: 0.6286 - loss: 0.6784 \n",
      "Epoch 3/10\n",
      "\u001b[1m32/32\u001b[0m \u001b[32m━━━━━━━━━━━━━━━━━━━━\u001b[0m\u001b[37m\u001b[0m \u001b[1m0s\u001b[0m 4ms/step - accuracy: 0.6415 - loss: 0.6617 \n",
      "Epoch 4/10\n",
      "\u001b[1m32/32\u001b[0m \u001b[32m━━━━━━━━━━━━━━━━━━━━\u001b[0m\u001b[37m\u001b[0m \u001b[1m0s\u001b[0m 4ms/step - accuracy: 0.7311 - loss: 0.6437 \n",
      "Epoch 5/10\n",
      "\u001b[1m32/32\u001b[0m \u001b[32m━━━━━━━━━━━━━━━━━━━━\u001b[0m\u001b[37m\u001b[0m \u001b[1m0s\u001b[0m 4ms/step - accuracy: 0.7880 - loss: 0.6198 \n",
      "Epoch 6/10\n",
      "\u001b[1m32/32\u001b[0m \u001b[32m━━━━━━━━━━━━━━━━━━━━\u001b[0m\u001b[37m\u001b[0m \u001b[1m0s\u001b[0m 4ms/step - accuracy: 0.8757 - loss: 0.5925 \n",
      "Epoch 7/10\n",
      "\u001b[1m32/32\u001b[0m \u001b[32m━━━━━━━━━━━━━━━━━━━━\u001b[0m\u001b[37m\u001b[0m \u001b[1m0s\u001b[0m 4ms/step - accuracy: 0.8726 - loss: 0.5693 \n",
      "Epoch 8/10\n",
      "\u001b[1m32/32\u001b[0m \u001b[32m━━━━━━━━━━━━━━━━━━━━\u001b[0m\u001b[37m\u001b[0m \u001b[1m0s\u001b[0m 4ms/step - accuracy: 0.8929 - loss: 0.5394 \n",
      "Epoch 9/10\n",
      "\u001b[1m32/32\u001b[0m \u001b[32m━━━━━━━━━━━━━━━━━━━━\u001b[0m\u001b[37m\u001b[0m \u001b[1m0s\u001b[0m 4ms/step - accuracy: 0.9058 - loss: 0.5128 \n",
      "Epoch 10/10\n",
      "\u001b[1m32/32\u001b[0m \u001b[32m━━━━━━━━━━━━━━━━━━━━\u001b[0m\u001b[37m\u001b[0m \u001b[1m0s\u001b[0m 4ms/step - accuracy: 0.8913 - loss: 0.4868 \n"
     ]
    }
   ],
   "source": [
    "model.compile(optimizer='adam',loss='binary_crossentropy',metrics=['accuracy'])\n",
    "history = model.fit(X,y,epochs = 10,verbose = 1)"
   ]
  },
  {
   "cell_type": "code",
   "execution_count": 19,
   "id": "a8acb290-8fde-4326-b0fa-fb74bdb46bb6",
   "metadata": {},
   "outputs": [
    {
     "name": "stdout",
     "output_type": "stream",
     "text": [
      "\u001b[1m32/32\u001b[0m \u001b[32m━━━━━━━━━━━━━━━━━━━━\u001b[0m\u001b[37m\u001b[0m \u001b[1m0s\u001b[0m 4ms/step - accuracy: 0.9162 - loss: 0.4639  \n",
      "Training Accuracy :  91.80%\n"
     ]
    }
   ],
   "source": [
    "loss,acc = model.evaluate(X,y)\n",
    "print(f\"Training Accuracy : {acc * 100 : .2f}%\")"
   ]
  },
  {
   "cell_type": "code",
   "execution_count": null,
   "id": "1887fea8-9489-491c-ad61-a7222cb610cd",
   "metadata": {},
   "outputs": [],
   "source": []
  }
 ],
 "metadata": {
  "kernelspec": {
   "display_name": "Python 3.10 (Correct)",
   "language": "python",
   "name": "python310"
  },
  "language_info": {
   "codemirror_mode": {
    "name": "ipython",
    "version": 3
   },
   "file_extension": ".py",
   "mimetype": "text/x-python",
   "name": "python",
   "nbconvert_exporter": "python",
   "pygments_lexer": "ipython3",
   "version": "3.10.0rc2"
  }
 },
 "nbformat": 4,
 "nbformat_minor": 5
}
