{
 "cells": [
  {
   "cell_type": "code",
   "execution_count": null,
   "id": "b3d840f2-dc9a-4902-9386-98e074768263",
   "metadata": {},
   "outputs": [],
   "source": []
  }
 ],
 "metadata": {
  "kernelspec": {
   "display_name": "",
   "name": ""
  },
  "language_info": {
   "name": ""
  }
 },
 "nbformat": 4,
 "nbformat_minor": 5
}
